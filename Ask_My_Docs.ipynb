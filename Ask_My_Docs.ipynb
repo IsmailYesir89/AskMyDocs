{
  "nbformat": 4,
  "nbformat_minor": 0,
  "metadata": {
    "colab": {
      "provenance": [],
      "authorship_tag": "ABX9TyNnktR/nX/jD41klUE8Ja3d",
      "include_colab_link": true
    },
    "kernelspec": {
      "name": "python3",
      "display_name": "Python 3"
    },
    "language_info": {
      "name": "python"
    }
  },
  "cells": [
    {
      "cell_type": "markdown",
      "metadata": {
        "id": "view-in-github",
        "colab_type": "text"
      },
      "source": [
        "<a href=\"https://colab.research.google.com/github/IsmailYesir89/AskMyDocs/blob/main/Ask_My_Docs.ipynb\" target=\"_parent\"><img src=\"https://colab.research.google.com/assets/colab-badge.svg\" alt=\"Open In Colab\"/></a>"
      ]
    },
    {
      "cell_type": "code",
      "execution_count": null,
      "metadata": {
        "id": "uUjJlEGiwbdG"
      },
      "outputs": [],
      "source": [
        "!pip install boto3 openai"
      ]
    },
    {
      "cell_type": "code",
      "source": [
        "import boto3\n",
        "import openai\n",
        "import os\n",
        "\n",
        "# AWS Credentials (Set up your AWS CLI or use environment variables)\n",
        "aws_access_key_id = ''\n",
        "aws_secret_access_key = ''\n",
        "region_name = 'us-east-1'\n",
        "\n",
        "# S3 client\n",
        "s3 = boto3.client('s3', aws_access_key_id=aws_access_key_id,\n",
        "                  aws_secret_access_key=aws_secret_access_key,\n",
        "                  region_name=region_name)\n",
        "\n",
        "# OpenAI API Key\n",
        "openai.api_key = ''\n"
      ],
      "metadata": {
        "id": "DlbH1obdwvD_"
      },
      "execution_count": null,
      "outputs": []
    },
    {
      "cell_type": "code",
      "source": [
        "def get_document_from_s3(bucket_name, file_key):\n",
        "    # Fetching file from S3\n",
        "    s3_object = s3.get_object(Bucket=bucket_name, Key=file_key)\n",
        "    document_text = s3_object['Body'].read().decode('utf-8')\n",
        "    return document_text\n"
      ],
      "metadata": {
        "id": "x3_K3vqvwvH2"
      },
      "execution_count": null,
      "outputs": []
    },
    {
      "cell_type": "code",
      "source": [
        "def ask_question(document, question):\n",
        "    prompt = f\"Document: {document}\\n\\nQuestion: {question}\\nAnswer:\"\n",
        "\n",
        "    response = openai.Completion.create(\n",
        "        engine=\"gpt-4\",  # You can use GPT-3.5 or a different model if needed\n",
        "        prompt=prompt,\n",
        "        max_tokens=300\n",
        "    )\n",
        "    answer = response['choices'][0]['text'].strip()\n",
        "    return answer\n"
      ],
      "metadata": {
        "id": "FzbIVWfCwvKm"
      },
      "execution_count": null,
      "outputs": []
    },
    {
      "cell_type": "code",
      "source": [
        "# Example S3 Bucket and File\n",
        "bucket_name = ''\n",
        "file_key = ''\n",
        "\n",
        "# Fetch document from S3\n",
        "document = get_document_from_s3(bucket_name, file_key)\n",
        "\n",
        "# Ask a question about the document\n",
        "question = \"What is the main idea of the document?\"\n",
        "answer = ask_question(document, question)\n",
        "\n",
        "print(\"Answer:\", answer)\n"
      ],
      "metadata": {
        "id": "3qLlfRmZw5ky"
      },
      "execution_count": null,
      "outputs": []
    }
  ]
}